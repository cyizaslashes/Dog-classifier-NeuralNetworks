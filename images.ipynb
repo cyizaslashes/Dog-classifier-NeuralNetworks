{
 "cells": [
  {
   "cell_type": "code",
   "execution_count": 8,
   "id": "045dfdbc-a465-4bf7-9211-288628bf40fb",
   "metadata": {},
   "outputs": [],
   "source": [
    "from PIL import Image"
   ]
  },
  {
   "cell_type": "code",
   "execution_count": 49,
   "id": "d129a270-a93d-46bb-bffa-2a9697c5b12b",
   "metadata": {},
   "outputs": [],
   "source": [
    "four = Image.open(\"handwritten_4.jpg\")"
   ]
  },
  {
   "cell_type": "code",
   "execution_count": 50,
   "id": "2954dc91-580c-4c33-98e2-f9586e3cb6eb",
   "metadata": {},
   "outputs": [
    {
     "data": {
      "image/png": "[encoded data removed]",
      "text/plain": [
       "<PIL.JpegImagePlugin.JpegImageFile image mode=L size=28x28>"
      ]
     },
     "execution_count": 50,
     "metadata": {},
     "output_type": "execute_result"
    }
   ],
   "source": [
    "four"
   ]
  },
  {
   "cell_type": "code",
   "execution_count": 51,
   "id": "5761179d-523f-4ba8-a806-5e5f08bef863",
   "metadata": {},
   "outputs": [
    {
     "data": {
      "text/plain": [
       "(28, 28)"
      ]
     },
     "execution_count": 51,
     "metadata": {},
     "output_type": "execute_result"
    }
   ],
   "source": [
    "four.size"
   ]
  },
  {
   "cell_type": "code",
   "execution_count": 57,
   "id": "75e00d31-7e66-4c75-957a-868648cb57ad",
   "metadata": {},
   "outputs": [
    {
     "data": {
      "text/plain": [
       "array([[249, 128,  55, 175],\n",
       "       [226,   0,   2, 186],\n",
       "       [ 59,  13,   0, 189],\n",
       "       [ 37,  94, 186, 222]], dtype=uint8)"
      ]
     },
     "execution_count": 57,
     "metadata": {},
     "output_type": "execute_result"
    }
   ],
   "source": [
    "import numpy as np\n",
    "\n",
    "np.array(four)[12:16,12:16]"
   ]
  },
  {
   "cell_type": "code",
   "execution_count": null,
   "id": "aa306ac3-f32d-46c7-a624-9ac4c1256a26",
   "metadata": {},
   "outputs": [],
   "source": []
  }
 ],
 "metadata": {
  "kernelspec": {
   "display_name": "Python 3 (ipykernel)",
   "language": "python",
   "name": "python3"
  },
  "language_info": {
   "codemirror_mode": {
    "name": "ipython",
    "version": 3
   },
   "file_extension": ".py",
   "mimetype": "text/x-python",
   "name": "python",
   "nbconvert_exporter": "python",
   "pygments_lexer": "ipython3",
   "version": "3.10.4"
  }
 },
 "nbformat": 4,
 "nbformat_minor": 5
}
